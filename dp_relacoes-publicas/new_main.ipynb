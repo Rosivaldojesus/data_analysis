{
 "cells": [
  {
   "cell_type": "code",
   "execution_count": null,
   "metadata": {},
   "outputs": [],
   "source": []
  }
 ],
 "metadata": {
  "kernelspec": {
   "display_name": "Python 3.9.7 ('base')",
   "language": "python",
   "name": "python3"
  },
  "language_info": {
   "name": "python",
   "version": "3.9.7"
  },
  "orig_nbformat": 4,
  "vscode": {
   "interpreter": {
    "hash": "507e2549062a60c49b211142d156318ba631d75a9d5086cab12ee3257d01d3da"
   }
  }
 },
 "nbformat": 4,
 "nbformat_minor": 2
}
